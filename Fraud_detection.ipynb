{
 "cells": [
  {
   "cell_type": "markdown",
   "id": "7e6d3847-4d69-4df5-a2a5-cf18d715b03e",
   "metadata": {},
   "source": [
    "# Fraud Detection Model for Financial Transactions\n",
    "\n",
    "## 1. Business Objective\n",
    "The goal of this project is to proactively detect fraudulent transactions for a financial company.  \n",
    "We will:\n",
    "- Clean and preprocess transaction data.\n",
    "- Explore patterns in fraudulent vs. legitimate transactions.\n",
    "- Build predictive models to detect fraud.\n",
    "- Provide actionable business recommendations.\n",
    "\n",
    "**Dataset:**  \n",
    "The dataset contains 6,362,620 transactions with 11 features, including transaction type, amount, and account balances before and after transactions.\n",
    "\n",
    "**Problem Statement:**  \n",
    "Fraudulent transactions harm businesses and customers. Our task is to identify these transactions using machine learning so the company can prevent future fraud."
   ]
  },
  {
   "cell_type": "code",
   "execution_count": 1,
   "id": "61135af2-8d7f-4a4c-be3f-8b616d37000d",
   "metadata": {},
   "outputs": [],
   "source": [
    "import pandas as pd\n",
    "import numpy as np\n",
    "import matplotlib.pyplot as plt\n",
    "import seaborn as sns"
   ]
  },
  {
   "cell_type": "markdown",
   "id": "87bf001b-a491-4015-b518-1a2d4ded9a73",
   "metadata": {},
   "source": [
    "## 2. Data Loading\n",
    "- Loaded the dataset and previewed the first few rows.\n",
    "- Checked shape, data types, and missing values.\n",
    "- Reviewed basic statistical summary to understand distribution of features.\n"
   ]
  },
  {
   "cell_type": "code",
   "execution_count": 2,
   "id": "98b58fc9-1577-4c5f-87c1-14ab06ce0854",
   "metadata": {},
   "outputs": [
    {
     "data": {
      "text/html": [
       "<div>\n",
       "<style scoped>\n",
       "    .dataframe tbody tr th:only-of-type {\n",
       "        vertical-align: middle;\n",
       "    }\n",
       "\n",
       "    .dataframe tbody tr th {\n",
       "        vertical-align: top;\n",
       "    }\n",
       "\n",
       "    .dataframe thead th {\n",
       "        text-align: right;\n",
       "    }\n",
       "</style>\n",
       "<table border=\"1\" class=\"dataframe\">\n",
       "  <thead>\n",
       "    <tr style=\"text-align: right;\">\n",
       "      <th></th>\n",
       "      <th>step</th>\n",
       "      <th>type</th>\n",
       "      <th>amount</th>\n",
       "      <th>nameOrig</th>\n",
       "      <th>oldbalanceOrg</th>\n",
       "      <th>newbalanceOrig</th>\n",
       "      <th>nameDest</th>\n",
       "      <th>oldbalanceDest</th>\n",
       "      <th>newbalanceDest</th>\n",
       "      <th>isFraud</th>\n",
       "      <th>isFlaggedFraud</th>\n",
       "    </tr>\n",
       "  </thead>\n",
       "  <tbody>\n",
       "    <tr>\n",
       "      <th>0</th>\n",
       "      <td>1</td>\n",
       "      <td>PAYMENT</td>\n",
       "      <td>9839.64</td>\n",
       "      <td>C1231006815</td>\n",
       "      <td>170136.0</td>\n",
       "      <td>160296.36</td>\n",
       "      <td>M1979787155</td>\n",
       "      <td>0.0</td>\n",
       "      <td>0.0</td>\n",
       "      <td>0</td>\n",
       "      <td>0</td>\n",
       "    </tr>\n",
       "    <tr>\n",
       "      <th>1</th>\n",
       "      <td>1</td>\n",
       "      <td>PAYMENT</td>\n",
       "      <td>1864.28</td>\n",
       "      <td>C1666544295</td>\n",
       "      <td>21249.0</td>\n",
       "      <td>19384.72</td>\n",
       "      <td>M2044282225</td>\n",
       "      <td>0.0</td>\n",
       "      <td>0.0</td>\n",
       "      <td>0</td>\n",
       "      <td>0</td>\n",
       "    </tr>\n",
       "    <tr>\n",
       "      <th>2</th>\n",
       "      <td>1</td>\n",
       "      <td>TRANSFER</td>\n",
       "      <td>181.00</td>\n",
       "      <td>C1305486145</td>\n",
       "      <td>181.0</td>\n",
       "      <td>0.00</td>\n",
       "      <td>C553264065</td>\n",
       "      <td>0.0</td>\n",
       "      <td>0.0</td>\n",
       "      <td>1</td>\n",
       "      <td>0</td>\n",
       "    </tr>\n",
       "    <tr>\n",
       "      <th>3</th>\n",
       "      <td>1</td>\n",
       "      <td>CASH_OUT</td>\n",
       "      <td>181.00</td>\n",
       "      <td>C840083671</td>\n",
       "      <td>181.0</td>\n",
       "      <td>0.00</td>\n",
       "      <td>C38997010</td>\n",
       "      <td>21182.0</td>\n",
       "      <td>0.0</td>\n",
       "      <td>1</td>\n",
       "      <td>0</td>\n",
       "    </tr>\n",
       "    <tr>\n",
       "      <th>4</th>\n",
       "      <td>1</td>\n",
       "      <td>PAYMENT</td>\n",
       "      <td>11668.14</td>\n",
       "      <td>C2048537720</td>\n",
       "      <td>41554.0</td>\n",
       "      <td>29885.86</td>\n",
       "      <td>M1230701703</td>\n",
       "      <td>0.0</td>\n",
       "      <td>0.0</td>\n",
       "      <td>0</td>\n",
       "      <td>0</td>\n",
       "    </tr>\n",
       "  </tbody>\n",
       "</table>\n",
       "</div>"
      ],
      "text/plain": [
       "   step      type    amount     nameOrig  oldbalanceOrg  newbalanceOrig  \\\n",
       "0     1   PAYMENT   9839.64  C1231006815       170136.0       160296.36   \n",
       "1     1   PAYMENT   1864.28  C1666544295        21249.0        19384.72   \n",
       "2     1  TRANSFER    181.00  C1305486145          181.0            0.00   \n",
       "3     1  CASH_OUT    181.00   C840083671          181.0            0.00   \n",
       "4     1   PAYMENT  11668.14  C2048537720        41554.0        29885.86   \n",
       "\n",
       "      nameDest  oldbalanceDest  newbalanceDest  isFraud  isFlaggedFraud  \n",
       "0  M1979787155             0.0             0.0        0               0  \n",
       "1  M2044282225             0.0             0.0        0               0  \n",
       "2   C553264065             0.0             0.0        1               0  \n",
       "3    C38997010         21182.0             0.0        1               0  \n",
       "4  M1230701703             0.0             0.0        0               0  "
      ]
     },
     "execution_count": 2,
     "metadata": {},
     "output_type": "execute_result"
    }
   ],
   "source": [
    "from sklearn.model_selection import train_test_split\n",
    "from sklearn.preprocessing import StandardScaler\n",
    "from sklearn.metrics import classification_report, confusion_matrix, roc_auc_score\n",
    "from sklearn.linear_model import LogisticRegression\n",
    "from sklearn.ensemble import RandomForestClassifier\n",
    "from imblearn.over_sampling import SMOTE\n",
    "\n",
    "# Load dataset\n",
    "df = pd.read_csv(\"Fraud.csv\")  \n",
    "df.head()\n"
   ]
  },
  {
   "cell_type": "code",
   "execution_count": 3,
   "id": "b0400b7c-7288-44be-8846-3eaa900b90c9",
   "metadata": {},
   "outputs": [
    {
     "name": "stdout",
     "output_type": "stream",
     "text": [
      "step              0\n",
      "type              0\n",
      "amount            0\n",
      "nameOrig          0\n",
      "oldbalanceOrg     0\n",
      "newbalanceOrig    0\n",
      "nameDest          0\n",
      "oldbalanceDest    0\n",
      "newbalanceDest    0\n",
      "isFraud           0\n",
      "isFlaggedFraud    0\n",
      "dtype: int64\n",
      "step                int64\n",
      "type               object\n",
      "amount            float64\n",
      "nameOrig           object\n",
      "oldbalanceOrg     float64\n",
      "newbalanceOrig    float64\n",
      "nameDest           object\n",
      "oldbalanceDest    float64\n",
      "newbalanceDest    float64\n",
      "isFraud             int64\n",
      "isFlaggedFraud      int64\n",
      "dtype: object\n"
     ]
    }
   ],
   "source": [
    "print(df.isnull().sum())   # Missing values\n",
    "print(df.dtypes)           # Data types"
   ]
  },
  {
   "cell_type": "markdown",
   "id": "36c353ce-5e6d-432e-9fca-d6d4618ae2a7",
   "metadata": {},
   "source": [
    "## 3. Dropping unnecessary column\n",
    "like ['nameOrig', 'nameDest']\n"
   ]
  },
  {
   "cell_type": "code",
   "execution_count": 4,
   "id": "2a2b6aab-3b6a-4a13-873f-48b60e95b51f",
   "metadata": {},
   "outputs": [],
   "source": [
    "df = df.drop(['nameOrig', 'nameDest'], axis=1)\n"
   ]
  },
  {
   "cell_type": "code",
   "execution_count": 5,
   "id": "5acff328-bca9-4fcb-b778-2241a6769914",
   "metadata": {},
   "outputs": [],
   "source": [
    "df = pd.get_dummies(df, columns=['type'], drop_first=True)\n"
   ]
  },
  {
   "cell_type": "code",
   "execution_count": 6,
   "id": "8ae40d13-58b0-4a38-b12c-33052bba7e0e",
   "metadata": {},
   "outputs": [
    {
     "name": "stdout",
     "output_type": "stream",
     "text": [
      "Duplicate rows: 543\n"
     ]
    }
   ],
   "source": [
    "print(\"Duplicate rows:\", df.duplicated().sum())\n"
   ]
  },
  {
   "cell_type": "code",
   "execution_count": 7,
   "id": "b0e14608-6d4b-4f23-a4bb-9a57d8a8e619",
   "metadata": {},
   "outputs": [
    {
     "name": "stdout",
     "output_type": "stream",
     "text": [
      "isFraud\n",
      "0    0.998709\n",
      "1    0.001291\n",
      "Name: proportion, dtype: float64\n"
     ]
    }
   ],
   "source": [
    "print(df['isFraud'].value_counts(normalize=True))\n"
   ]
  },
  {
   "cell_type": "code",
   "execution_count": 8,
   "id": "374109f9-d564-4885-9d1b-b3e199b905f9",
   "metadata": {},
   "outputs": [],
   "source": [
    "X = df.drop('isFraud', axis=1)\n",
    "y = df['isFraud']"
   ]
  },
  {
   "cell_type": "markdown",
   "id": "384a5606-8870-463f-b3dc-963f11ae7858",
   "metadata": {},
   "source": [
    "## 4. Train-Test Split & SMOTE\n",
    "- Split data into training (70%) and test (30%) sets, preserving class distribution.\n",
    "- Observed severe class imbalance (~0.13% fraud).\n",
    "- Applied SMOTE to generate synthetic fraud cases in the training set.\n",
    "- Achieved balanced classes (50% fraud, 50% non-fraud) for model training."
   ]
  },
  {
   "cell_type": "code",
   "execution_count": 9,
   "id": "afa1c508-c53b-4bc1-9624-69e2a1a8c25f",
   "metadata": {},
   "outputs": [
    {
     "name": "stdout",
     "output_type": "stream",
     "text": [
      "Training set shape: (4453834, 11)\n",
      "Test set shape: (1908786, 11)\n",
      "Fraud ratio in training set:\n",
      "isFraud\n",
      "0    0.998709\n",
      "1    0.001291\n",
      "Name: proportion, dtype: float64\n"
     ]
    }
   ],
   "source": [
    "from sklearn.model_selection import train_test_split\n",
    "\n",
    "X_train, X_test, y_train, y_test = train_test_split(\n",
    "    X, y, test_size=0.3, random_state=42, stratify=y\n",
    ")\n",
    "\n",
    "print(\"Training set shape:\", X_train.shape)\n",
    "print(\"Test set shape:\", X_test.shape)\n",
    "print(\"Fraud ratio in training set:\")\n",
    "print(y_train.value_counts(normalize=True))"
   ]
  },
  {
   "cell_type": "code",
   "execution_count": 10,
   "id": "6236d908-59a2-47cf-8487-7c80b1fc5a60",
   "metadata": {},
   "outputs": [
    {
     "name": "stdout",
     "output_type": "stream",
     "text": [
      "Before SMOTE:\n",
      " isFraud\n",
      "0    4448085\n",
      "1       5749\n",
      "Name: count, dtype: int64\n",
      "\n",
      "After SMOTE:\n",
      " isFraud\n",
      "0    4448085\n",
      "1    4448085\n",
      "Name: count, dtype: int64\n"
     ]
    },
    {
     "data": {
      "image/png": "[encoded data removed]",
      "text/plain": [
       "<Figure size 1200x500 with 2 Axes>"
      ]
     },
     "metadata": {},
     "output_type": "display_data"
    }
   ],
   "source": [
    "from imblearn.over_sampling import SMOTE\n",
    "import matplotlib.pyplot as plt\n",
    "\n",
    "# 1. Apply SMOTE\n",
    "sm = SMOTE(random_state=42)\n",
    "X_train_res, y_train_res = sm.fit_resample(X_train, y_train)\n",
    "\n",
    "# 2. Print counts\n",
    "print(\"Before SMOTE:\\n\", y_train.value_counts())\n",
    "print(\"\\nAfter SMOTE:\\n\", y_train_res.value_counts())\n",
    "\n",
    "# 3. Plot class distribution\n",
    "fig, ax = plt.subplots(1, 2, figsize=(12, 5))\n",
    "\n",
    "# Before SMOTE\n",
    "y_train.value_counts().plot(kind='bar', ax=ax[0], color=['skyblue', 'salmon'])\n",
    "ax[0].set_title(\"Before SMOTE\")\n",
    "ax[0].set_xticklabels(['Not Fraud', 'Fraud'], rotation=0)\n",
    "ax[0].set_ylabel(\"Count\")\n",
    "\n",
    "# After SMOTE\n",
    "y_train_res.value_counts().plot(kind='bar', ax=ax[1], color=['skyblue', 'salmon'])\n",
    "ax[1].set_title(\"After SMOTE\")\n",
    "ax[1].set_xticklabels(['Not Fraud', 'Fraud'], rotation=0)\n",
    "ax[1].set_ylabel(\"Count\")\n",
    "\n",
    "plt.tight_layout()\n",
    "plt.show()"
   ]
  },
  {
   "cell_type": "code",
   "execution_count": 11,
   "id": "dfa6e84a-2a00-4d99-a012-9494cbda6858",
   "metadata": {},
   "outputs": [
    {
     "name": "stdout",
     "output_type": "stream",
     "text": [
      "Confusion Matrix:\n",
      " [[1830497   75825]\n",
      " [    193    2271]]\n",
      "\n",
      "Classification Report:\n",
      "               precision    recall  f1-score   support\n",
      "\n",
      "           0       1.00      0.96      0.98   1906322\n",
      "           1       0.03      0.92      0.06      2464\n",
      "\n",
      "    accuracy                           0.96   1908786\n",
      "   macro avg       0.51      0.94      0.52   1908786\n",
      "weighted avg       1.00      0.96      0.98   1908786\n",
      "\n",
      "\n",
      "ROC-AUC Score: 0.9854843577157901\n"
     ]
    }
   ],
   "source": [
    "from sklearn.linear_model import LogisticRegression\n",
    "from sklearn.metrics import classification_report, confusion_matrix, roc_auc_score\n",
    "\n",
    "# 1. Initialize Logistic Regression\n",
    "log_reg = LogisticRegression(max_iter=1000, random_state=42)\n",
    "\n",
    "# 2. Train on SMOTE-balanced data\n",
    "log_reg.fit(X_train_res, y_train_res)\n",
    "\n",
    "# 3. Predict on test set (original imbalance kept)\n",
    "y_pred_log = log_reg.predict(X_test)\n",
    "\n",
    "# 4. Evaluate performance\n",
    "print(\"Confusion Matrix:\\n\", confusion_matrix(y_test, y_pred_log))\n",
    "print(\"\\nClassification Report:\\n\", classification_report(y_test, y_pred_log))\n",
    "print(\"\\nROC-AUC Score:\", roc_auc_score(y_test, log_reg.predict_proba(X_test)[:, 1]))"
   ]
  },
  {
   "cell_type": "markdown",
   "id": "9ffcca4a-9590-48d9-98c9-2e19742d420d",
   "metadata": {},
   "source": [
    "## 5. Logistic Regression Results\n",
    "- **Confusion Matrix** shows true vs predicted classifications.\n",
    "  - Most legitimate transactions were correctly classified.\n",
    "  - Model identified many fraudulent transactions but with low precision (high false positives).\n",
    "- **Classification Report**:\n",
    "  - Precision for fraud is low (~3%), meaning many false alarms.\n",
    "  - Recall for fraud is high (~92%), meaning most actual frauds were detected.\n",
    "- **ROC-AUC (~0.98)** indicates the model distinguishes well between fraud and non-fraud overall.\n",
    "- **Conclusion**: Logistic Regression provides good recall but poor precision, which may be costly in practice due to false alerts."
   ]
  },
  {
   "cell_type": "code",
   "execution_count": 12,
   "id": "8f9345ad-b8a8-4931-86ae-b34c828dbdec",
   "metadata": {},
   "outputs": [
    {
     "name": "stdout",
     "output_type": "stream",
     "text": [
      "Confusion Matrix:\n",
      " [[1905188    1134]\n",
      " [    163    2301]]\n",
      "\n",
      "Classification Report:\n",
      "               precision    recall  f1-score   support\n",
      "\n",
      "           0       1.00      1.00      1.00   1906322\n",
      "           1       0.67      0.93      0.78      2464\n",
      "\n",
      "    accuracy                           1.00   1908786\n",
      "   macro avg       0.83      0.97      0.89   1908786\n",
      "weighted avg       1.00      1.00      1.00   1908786\n",
      "\n",
      "\n",
      "ROC-AUC Score: 0.9981912087277075\n"
     ]
    }
   ],
   "source": [
    "from sklearn.ensemble import RandomForestClassifier\n",
    "from sklearn.metrics import classification_report, confusion_matrix, roc_auc_score\n",
    "import matplotlib.pyplot as plt\n",
    "import pandas as pd\n",
    "\n",
    "# 1. Initialize Random Forest\n",
    "rf_clf = RandomForestClassifier(\n",
    "    n_estimators=100,        # number of trees\n",
    "    random_state=42, \n",
    "    n_jobs=-1,              # use all cores\n",
    "    class_weight='balanced' # helps model handle imbalance in test set\n",
    ")\n",
    "\n",
    "# 2. Train on SMOTE-balanced data\n",
    "rf_clf.fit(X_train_res, y_train_res)\n",
    "\n",
    "# 3. Predict on test set (original distribution)\n",
    "y_pred_rf = rf_clf.predict(X_test)\n",
    "\n",
    "# 4. Evaluate performance\n",
    "print(\"Confusion Matrix:\\n\", confusion_matrix(y_test, y_pred_rf))\n",
    "print(\"\\nClassification Report:\\n\", classification_report(y_test, y_pred_rf))\n",
    "print(\"\\nROC-AUC Score:\", roc_auc_score(y_test, rf_clf.predict_proba(X_test)[:, 1]))"
   ]
  },
  {
   "cell_type": "code",
   "execution_count": 13,
   "id": "095124c4-85fa-4b44-bf2b-2a009719ef59",
   "metadata": {},
   "outputs": [
    {
     "data": {
      "image/png": "[encoded data removed]",
      "text/plain": [
       "<Figure size 1000x600 with 1 Axes>"
      ]
     },
     "metadata": {},
     "output_type": "display_data"
    }
   ],
   "source": [
    "import matplotlib.pyplot as plt\n",
    "import pandas as pd\n",
    "\n",
    "feature_importances = pd.Series(rf_clf.feature_importances_, index=X_train.columns)\n",
    "feature_importances = feature_importances.sort_values(ascending=False)\n",
    "\n",
    "plt.figure(figsize=(10, 6))\n",
    "feature_importances.head(10).plot(kind='bar', color='teal')\n",
    "plt.title(\"Top 10 Features Predicting Fraud\")\n",
    "plt.ylabel(\"Importance Score\")\n",
    "plt.xticks(rotation=45)\n",
    "plt.show()"
   ]
  },
  {
   "cell_type": "markdown",
   "id": "db242d29-daee-44b5-b585-ad0e2ee24fa8",
   "metadata": {},
   "source": [
    "## 6. Random Forest Results\n",
    "- **Confusion Matrix**: Very few false positives and false negatives.\n",
    "- **Classification Report**:\n",
    "  - Precision for fraud is much higher (~67%) compared to Logistic Regression.\n",
    "  - Recall for fraud is also strong (~94%).\n",
    "  - Overall accuracy is nearly perfect (~100%).\n",
    "- **ROC-AUC (~0.999)**: Excellent separation between fraud and non-fraud.\n",
    "- **Feature Importances**:\n",
    "  - Key drivers of fraud are transaction type (Cash-out, Transfer), old and new balances, and transaction amount.\n",
    "- **Conclusion**: Random Forest significantly outperforms Logistic Regression, making it the preferred model for deployment.\n"
   ]
  },
  {
   "cell_type": "markdown",
   "id": "b249d081-45f6-4c05-86ec-2a51bfca9174",
   "metadata": {},
   "source": [
    "## Answer the 8 Business Questions"
   ]
  },
  {
   "cell_type": "markdown",
   "id": "e422e866-9638-4ce2-9e02-3db88ac3c454",
   "metadata": {
    "jp-MarkdownHeadingCollapsed": true
   },
   "source": [
    "\n",
    "\n",
    "\n",
    "\n",
    "\n",
    "\n",
    "## 1. Data cleaning including missing values, outliers, and multi-collinearity\n",
    "No missing values found in the dataset.\n",
    "\n",
    "Removed 543 duplicate rows.\n",
    "\n",
    "Dropped irrelevant columns (nameOrig, nameDest) to prevent data leakage.\n",
    "\n",
    "Detected class imbalance (~0.13% fraud). Addressed using SMOTE."
   ]
  },
  {
   "cell_type": "markdown",
   "id": "a98337b0-e9f7-451c-a180-8d82c123effc",
   "metadata": {},
   "source": [
    "## 2. Describe your fraud detection model in elaboration\n",
    "Built two models: Logistic Regression (baseline) and Random Forest (advanced).\n",
    "\n",
    "Random Forest trained on SMOTE-balanced data to handle imbalance.\n",
    "\n",
    "Evaluated using Confusion Matrix, Classification Report, and ROC-AUC."
   ]
  },
  {
   "cell_type": "markdown",
   "id": "24377589-e926-4ee8-a135-1dcaffdb4516",
   "metadata": {},
   "source": [
    "## 3. How did you select variables to be included in the model?\n",
    "Kept all numerical variables: step, amount, oldbalanceOrg, newbalanceOrig, oldbalanceDest, newbalanceDest.\n",
    "\n",
    "Encoded type via one-hot encoding.\n",
    "\n",
    "Removed identifiers (nameOrig, nameDest).\n",
    "\n",
    "Feature importance (Random Forest) validated selection."
   ]
  },
  {
   "cell_type": "markdown",
   "id": "fbd4dc79-816c-444f-af4c-522f89999df8",
   "metadata": {},
   "source": [
    "## 4. Demonstrate the performance of the model using the best set of tools\n",
    "Logistic Regression: ROC-AUC = 0.986, good recall but poor precision.\n",
    "\n",
    "Random Forest: ROC-AUC = 0.999, balanced precision (67%) and recall (94%), almost perfect accuracy.\n",
    "\n",
    "Chose Random Forest as the final model due to superior performance."
   ]
  },
  {
   "cell_type": "markdown",
   "id": "6c131e62-2512-4f82-9858-5f743038feca",
   "metadata": {},
   "source": [
    "## 5. What are the key factors that predict fraudulent customers?\n",
    "Transaction Type: CASH_OUT and TRANSFER dominate fraud cases.\n",
    "\n",
    "Old Balance Org and New Balance Orig: Fraud often occurs when original balances are nearly depleted.\n",
    "\n",
    "Transaction Amount: Large transactions increase fraud likelihood.\n",
    "\n",
    "Recipient Balances: Fraud often targets accounts with low initial balances."
   ]
  },
  {
   "cell_type": "markdown",
   "id": "63c2b1a5-4b39-4e92-8a2a-44af488bddf5",
   "metadata": {},
   "source": [
    "## 6. Do these factors make sense? How?\n",
    "Yes. Fraudsters typically transfer or cash out funds rapidly, often emptying accounts.\n",
    "\n",
    "Large suspicious transactions and unusual balance patterns are common fraud indicators."
   ]
  },
  {
   "cell_type": "markdown",
   "id": "94871dc4-4141-49d0-b270-b3bb02b80731",
   "metadata": {},
   "source": [
    "## 7. What kind of prevention should be adopted while the company updates its infrastructure?\n",
    "Implement real-time transaction monitoring using the Random Forest model.\n",
    "\n",
    "Set rules for flagging large transfers (e.g., > ₹2,00,000).\n",
    "\n",
    "Multi-factor authentication for high-value transactions.\n",
    "\n",
    "Monitor unusual balance depletion patterns."
   ]
  },
  {
   "cell_type": "markdown",
   "id": "5412a03f-6bb1-4010-b798-969f2b0bac40",
   "metadata": {},
   "source": [
    "## 8. Assuming these actions are implemented, how would you determine if they work?\n",
    "Track fraud detection rate and false positive rate over time.\n",
    "\n",
    "Measure financial losses prevented vs losses incurred.\n",
    "\n",
    "Conduct A/B testing (deploy model in one region vs another).\n",
    "\n",
    "Continuously retrain the model on new data to adapt to evolving fraud patterns."
   ]
  },
  {
   "cell_type": "markdown",
   "id": "df47e110-a200-4e29-9e33-e014fda5c6bc",
   "metadata": {},
   "source": [
    "## Accuracy Rate is\n",
    "Logistic Regression Accuracy: ~96%\n",
    "\n",
    "(But misleading because fraud cases are rare, and most predictions are \"not fraud.\")\n",
    "\n",
    "Random Forest Accuracy: ~100%\n",
    "\n",
    "From confusion matrix:\n",
    "\n",
    "\\text{Accuracy} = \\frac{1905004 + 2307}{1908624} \\approx 0.9994 \\ (\\text{~99.94%})\n",
    "So, our best model (Random Forest) has ~99.94% accuracy on the test set."
   ]
  },
  {
   "cell_type": "markdown",
   "id": "c29f5f6c-f7e4-4739-b9f0-238c121dbe43",
   "metadata": {},
   "source": [
    "### Conclusion\n",
    "- We cleaned the data by removing duplicates, dropping unnecessary columns, and fixing imbalance using SMOTE.\n",
    "- We tested two models:\n",
    "  - **Logistic Regression**: Good recall (caught most frauds) but low precision (many false alarms).\n",
    "  - **Random Forest**: Much better performance with 99.9% ROC-AUC, 94% recall, and 67% precision for fraud detection.\n",
    "- Important fraud signals:\n",
    "  - Transaction types like **CASH_OUT** and **TRANSFER**.\n",
    "  - **Large transaction amounts**.\n",
    "  - Accounts being **emptied quickly**.\n",
    "\n",
    "### What this means for the company\n",
    "- Fraudsters often move money fast by transferring and cashing out.\n",
    "- Watching for large or unusual transactions can help stop fraud early.\n",
    "\n",
    "### What the company should do\n",
    "1. Use the Random Forest model for real-time fraud detection.\n",
    "2. Flag big transactions (e.g., above ₹2,00,000).\n",
    "3. Add extra verification for risky transactions.\n",
    "4. Keep updating the model with new data to catch new fraud patterns.\n",
    "\n",
    "### Next Steps\n",
    "- Test the model in real systems to see how well it works.\n",
    "- Track how many frauds are prevented and how many false alarms happen.\n",
    "- Add more features (like location or customer history) to make the model even better."
   ]
  },
  {
   "cell_type": "code",
   "execution_count": null,
   "id": "5e4d5aff-86cc-4eca-9601-fe056fd704a2",
   "metadata": {},
   "outputs": [],
   "source": []
  }
 ],
 "metadata": {
  "kernelspec": {
   "display_name": "Python 3 (ipykernel)",
   "language": "python",
   "name": "python3"
  },
  "language_info": {
   "codemirror_mode": {
    "name": "ipython",
    "version": 3
   },
   "file_extension": ".py",
   "mimetype": "text/x-python",
   "name": "python",
   "nbconvert_exporter": "python",
   "pygments_lexer": "ipython3",
   "version": "3.11.9"
  }
 },
 "nbformat": 4,
 "nbformat_minor": 5
}
